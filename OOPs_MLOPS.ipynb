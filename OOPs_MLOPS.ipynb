{
  "nbformat": 4,
  "nbformat_minor": 0,
  "metadata": {
    "colab": {
      "provenance": [],
      "authorship_tag": "ABX9TyMSFp/vrYhDfitVlNvzNedg",
      "include_colab_link": true
    },
    "kernelspec": {
      "name": "python3",
      "display_name": "Python 3"
    },
    "language_info": {
      "name": "python"
    }
  },
  "cells": [
    {
      "cell_type": "markdown",
      "metadata": {
        "id": "view-in-github",
        "colab_type": "text"
      },
      "source": [
        "<a href=\"https://colab.research.google.com/github/HariSudhan76/DSA/blob/main/OOPs_MLOPS.ipynb\" target=\"_parent\"><img src=\"https://colab.research.google.com/assets/colab-badge.svg\" alt=\"Open In Colab\"/></a>"
      ]
    },
    {
      "cell_type": "code",
      "execution_count": null,
      "metadata": {
        "colab": {
          "base_uri": "https://localhost:8080/"
        },
        "id": "DYa4AtjBkMpZ",
        "outputId": "6f2311ff-450e-4c1c-a739-408486c26cc1"
      },
      "outputs": [
        {
          "output_type": "stream",
          "name": "stdout",
          "text": [
            "normalized data: [0.4117647058823529, 1.0, 0.0, 0.058823529411764705]\n",
            "normalized data: [0.37931034482758635, 0.689655172413793, 1.0, 0.0]\n"
          ]
        }
      ],
      "source": [
        "#Funcntion & modularization\n",
        "\n",
        "def preprocess_data(data):\n",
        "  min_val = min(data)\n",
        "  max_val = max(data)\n",
        "  normalized = [(x-min_val)/(max_val-min_val) for x in data]\n",
        "  return normalized\n",
        "\n",
        "print(\"normalized data:\",preprocess_data([100,200,30,40]))\n",
        "print(\"normalized data:\",preprocess_data([5.4, 6.3, 7.2,4.3]))"
      ]
    },
    {
      "cell_type": "code",
      "source": [
        "lst = [5.4, 6.3, 7.2,4.3]\n",
        "min_val  = min(lst)\n",
        "max_val = max(lst)\n",
        "print([(x-min_val)/(max_val-min_val) for x in lst])\n",
        "\n",
        "lst1=[100,200,30,40]\n",
        "min_val  = min(lst1)\n",
        "max_val = max(lst1)\n",
        "print([(x-min_val)/(max_val-min_val) for x in lst1])"
      ],
      "metadata": {
        "colab": {
          "base_uri": "https://localhost:8080/"
        },
        "id": "8dkyH4a32IRc",
        "outputId": "ddfd86c5-16eb-4e86-e84b-dde43a02307b"
      },
      "execution_count": null,
      "outputs": [
        {
          "output_type": "stream",
          "name": "stdout",
          "text": [
            "[0.37931034482758635, 0.689655172413793, 1.0, 0.0]\n",
            "[-0.14470588235294118, -0.13941176470588235, -0.13411764705882354, -0.1511764705882353]\n"
          ]
        }
      ]
    },
    {
      "cell_type": "code",
      "source": [
        "(5.4-4.3)/(7.2-4.3)"
      ],
      "metadata": {
        "colab": {
          "base_uri": "https://localhost:8080/"
        },
        "id": "hMXy0irF274q",
        "outputId": "4c32eeea-4ab2-45ed-cc54-38bd7ce84fe9"
      },
      "execution_count": null,
      "outputs": [
        {
          "output_type": "execute_result",
          "data": {
            "text/plain": [
              "0.37931034482758635"
            ]
          },
          "metadata": {},
          "execution_count": 5
        }
      ]
    },
    {
      "cell_type": "code",
      "source": [
        "min_val = min(lst)\n",
        "max_val = max(lst)\n",
        "\n",
        "for x in lst:\n",
        "  print((x-min_val)/(max_val-min_val))\n"
      ],
      "metadata": {
        "colab": {
          "base_uri": "https://localhost:8080/"
        },
        "id": "1Xuck8tD5O4L",
        "outputId": "e0fbf7b5-942c-45e5-db6c-ca71245a0ba7"
      },
      "execution_count": null,
      "outputs": [
        {
          "output_type": "stream",
          "name": "stdout",
          "text": [
            "0.37931034482758635\n",
            "0.689655172413793\n",
            "1.0\n",
            "0.0\n"
          ]
        }
      ]
    },
    {
      "cell_type": "markdown",
      "source": [
        "Class and Objects"
      ],
      "metadata": {
        "id": "KI0mEr5Q-ahg"
      }
    },
    {
      "cell_type": "code",
      "source": [
        "class TShirt:\n",
        "  def __init__(self,color,size):\n",
        "    self.color = color\n",
        "    self.size = size\n",
        "\n",
        "shirt1 = TShirt(\"Red\",\"M\")\n",
        "shirt2 = TShirt(\"Blue\",\"L\")\n",
        "\n",
        "print(shirt1.color,shirt1.size) #Red\n",
        "print(shirt2.color,shirt2.size) #Blue"
      ],
      "metadata": {
        "colab": {
          "base_uri": "https://localhost:8080/"
        },
        "id": "EYIivqZJ8NOB",
        "outputId": "1518e448-3bab-45f3-ff4f-774a08147dd4"
      },
      "execution_count": null,
      "outputs": [
        {
          "output_type": "stream",
          "name": "stdout",
          "text": [
            "Red M\n",
            "Blue L\n"
          ]
        }
      ]
    },
    {
      "cell_type": "markdown",
      "source": [
        "Encapsulation"
      ],
      "metadata": {
        "id": "WW5CUFW8-erQ"
      }
    },
    {
      "cell_type": "code",
      "source": [
        "class Tshirt:\n",
        "  def __init__(self,color):\n",
        "    self.__secret_tag = \"Internal Price\" ##Hidden info\n",
        "    self.color = color\n",
        "\n",
        "  def get_tag(self):\n",
        "    return f\"price info accessed safely: {self.__secret_tag}\"\n",
        "\n",
        "shirt = Tshirt(\"Blue\")\n",
        "print(shirt.get_tag())\n",
        "# print(shirt.__secret_tag)\n",
        "print(shirt.color)\n"
      ],
      "metadata": {
        "colab": {
          "base_uri": "https://localhost:8080/"
        },
        "id": "yM74eyRv-eZP",
        "outputId": "d27f1f6b-1ebe-41ac-eb71-4586377a7284"
      },
      "execution_count": null,
      "outputs": [
        {
          "output_type": "stream",
          "name": "stdout",
          "text": [
            "price info accessed safely: Internal Price\n",
            "Blue\n"
          ]
        }
      ]
    },
    {
      "cell_type": "markdown",
      "source": [
        "Abstraction"
      ],
      "metadata": {
        "id": "R1q1Mnj1_mpw"
      }
    },
    {
      "cell_type": "code",
      "source": [
        "def div(a,b):\n",
        "  return a/b"
      ],
      "metadata": {
        "id": "zcx0dtbjo9bm"
      },
      "execution_count": 18,
      "outputs": []
    },
    {
      "cell_type": "code",
      "source": [
        "class WashingMachine:\n",
        "  def wash(self,tshirt):\n",
        "    spin = self.__spin(tshirt)\n",
        "    rinse = self.__rinse(tshirt)\n",
        "    print(spin)\n",
        "    # if spin==True and rinse==True:\n",
        "    #   print(\"Tshirt Cleaned\")\n",
        "    # else:\n",
        "    #   print(\"Tshirt not cleaned\")\n",
        "\n",
        "  def __spin(self,tshirt):\n",
        "    if \"Red\" in tshirt:\n",
        "      return div(10,20)\n",
        "    else:\n",
        "      return True\n",
        "  def __rinse(self,tshirt):\n",
        "    if \"Red\" in tshirt:\n",
        "      return False\n",
        "    else:\n",
        "      return True\n",
        "\n"
      ],
      "metadata": {
        "id": "txL3BqjAlgtF"
      },
      "execution_count": 21,
      "outputs": []
    },
    {
      "cell_type": "code",
      "source": [
        "machine = WashingMachine()\n",
        "machine.wash([\"Red\"])"
      ],
      "metadata": {
        "colab": {
          "base_uri": "https://localhost:8080/"
        },
        "id": "PVhbZGvqmxiW",
        "outputId": "e8acb361-1850-467d-c3d6-7a20866e4c88"
      },
      "execution_count": 22,
      "outputs": [
        {
          "output_type": "stream",
          "name": "stdout",
          "text": [
            "0.5\n"
          ]
        }
      ]
    },
    {
      "cell_type": "code",
      "source": [
        "machine.__spin([\"Blue\"])"
      ],
      "metadata": {
        "colab": {
          "base_uri": "https://localhost:8080/",
          "height": 141
        },
        "id": "dCqRsPrrnvCt",
        "outputId": "660080d5-2274-4ab3-fd9f-76832fd7bbcb"
      },
      "execution_count": 14,
      "outputs": [
        {
          "output_type": "error",
          "ename": "AttributeError",
          "evalue": "'WashingMachine' object has no attribute '__spin'",
          "traceback": [
            "\u001b[0;31m---------------------------------------------------------------------------\u001b[0m",
            "\u001b[0;31mAttributeError\u001b[0m                            Traceback (most recent call last)",
            "\u001b[0;32m/tmp/ipython-input-533363528.py\u001b[0m in \u001b[0;36m<cell line: 0>\u001b[0;34m()\u001b[0m\n\u001b[0;32m----> 1\u001b[0;31m \u001b[0mmachine\u001b[0m\u001b[0;34m.\u001b[0m\u001b[0m__spin\u001b[0m\u001b[0;34m(\u001b[0m\u001b[0;34m[\u001b[0m\u001b[0;34m\"Blue\"\u001b[0m\u001b[0;34m]\u001b[0m\u001b[0;34m)\u001b[0m\u001b[0;34m\u001b[0m\u001b[0;34m\u001b[0m\u001b[0m\n\u001b[0m",
            "\u001b[0;31mAttributeError\u001b[0m: 'WashingMachine' object has no attribute '__spin'"
          ]
        }
      ]
    },
    {
      "cell_type": "code",
      "source": [
        "#Parent class\n",
        "class Tshirt:\n",
        "  def __init__(self,col,s):\n",
        "    self.c = col\n",
        "    self.s = s\n"
      ],
      "metadata": {
        "id": "OCs0QdwJq579"
      },
      "execution_count": 42,
      "outputs": []
    },
    {
      "cell_type": "code",
      "source": [
        "#Child class\n",
        "class PrintedTshirt(Tshirt):\n",
        "  def __init__(self,color,size,print_text):\n",
        "    super().__init__(color,size)\n",
        "    self.print_text = print_text\n",
        "shirt = PrintedTshirt(\"White\",12,\"Hello\")\n",
        "\n"
      ],
      "metadata": {
        "id": "iQo95lKUrL52"
      },
      "execution_count": 44,
      "outputs": []
    },
    {
      "cell_type": "code",
      "source": [
        "shirt.s"
      ],
      "metadata": {
        "colab": {
          "base_uri": "https://localhost:8080/"
        },
        "id": "Yhx4OPKRr89k",
        "outputId": "a10cbf82-244c-42fb-f3c0-80e6f3996899"
      },
      "execution_count": 46,
      "outputs": [
        {
          "output_type": "execute_result",
          "data": {
            "text/plain": [
              "12"
            ]
          },
          "metadata": {},
          "execution_count": 46
        }
      ]
    },
    {
      "cell_type": "code",
      "source": [
        "class LinearRegression:\n",
        "  def train(self):\n",
        "    print(\"Linear Regression trained\")\n",
        "\n",
        "class SVM:\n",
        "  def train(self):\n",
        "    print(\"SVM trained\")\n",
        "\n",
        "linear = LinearRegression()\n",
        "svm = SVM()\n",
        "\n",
        "linear.train()\n",
        "\n"
      ],
      "metadata": {
        "colab": {
          "base_uri": "https://localhost:8080/"
        },
        "id": "dUA54AZwuSfm",
        "outputId": "a2e6f28b-7d68-41b2-aa6f-a8f2755b9bcb"
      },
      "execution_count": 51,
      "outputs": [
        {
          "output_type": "stream",
          "name": "stdout",
          "text": [
            "Linear Regression trained\n"
          ]
        }
      ]
    },
    {
      "cell_type": "code",
      "source": [
        "svm.train()"
      ],
      "metadata": {
        "colab": {
          "base_uri": "https://localhost:8080/"
        },
        "id": "ZsWG7XY-ul23",
        "outputId": "1d9a25f0-23f9-4666-f479-ec1a3c3174c7"
      },
      "execution_count": 52,
      "outputs": [
        {
          "output_type": "stream",
          "name": "stdout",
          "text": [
            "SVM trained\n"
          ]
        }
      ]
    }
  ]
}