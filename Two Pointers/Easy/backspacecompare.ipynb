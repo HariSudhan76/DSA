{
 "cells": [
  {
   "cell_type": "code",
   "execution_count": null,
   "id": "059af0ab",
   "metadata": {},
   "outputs": [],
   "source": [
    "class Solution:\n",
    "    def backspaceCompare(self, s: str, t: str) -> bool:\n",
    "        def helper(txt):\n",
    "            result = []\n",
    "            for c in txt:\n",
    "                if c=='#':\n",
    "                    if result:\n",
    "                        result.pop()\n",
    "                else:\n",
    "                    result.append(c)\n",
    "            return result\n",
    "        return helper(s)==helper(t)\n"
   ]
  }
 ],
 "metadata": {
  "language_info": {
   "name": "python"
  }
 },
 "nbformat": 4,
 "nbformat_minor": 5
}
