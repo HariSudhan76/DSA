{
 "cells": [
  {
   "cell_type": "code",
   "execution_count": 3,
   "id": "775beb12",
   "metadata": {},
   "outputs": [
    {
     "data": {
      "text/plain": [
       "False"
      ]
     },
     "execution_count": 3,
     "metadata": {},
     "output_type": "execute_result"
    }
   ],
   "source": [
    "s = 'aaaaaa'\n",
    "t = 'bbaaaa'\n",
    "def isSubsequence(s: str, t: str) -> bool:\n",
    "    i=0\n",
    "    j=0\n",
    "    while i<len(s) and j<len(t):\n",
    "        if s[i] == t[j]:\n",
    "            i+=1\n",
    "        j+=1\n",
    "    return i==len(s)\n",
    "isSubsequence(s,t)"
   ]
  }
 ],
 "metadata": {
  "kernelspec": {
   "display_name": "Python 3",
   "language": "python",
   "name": "python3"
  },
  "language_info": {
   "codemirror_mode": {
    "name": "ipython",
    "version": 3
   },
   "file_extension": ".py",
   "mimetype": "text/x-python",
   "name": "python",
   "nbconvert_exporter": "python",
   "pygments_lexer": "ipython3",
   "version": "3.10.11"
  }
 },
 "nbformat": 4,
 "nbformat_minor": 5
}
