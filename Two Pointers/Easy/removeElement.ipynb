{
 "cells": [
  {
   "cell_type": "code",
   "execution_count": 57,
   "id": "74190757",
   "metadata": {},
   "outputs": [
    {
     "data": {
      "text/plain": [
       "(5, [0, 1, 3, 0, 4])"
      ]
     },
     "execution_count": 57,
     "metadata": {},
     "output_type": "execute_result"
    }
   ],
   "source": [
    "def removeElement(nums,val):\n",
    "    if len(nums)==0:\n",
    "            return 0\n",
    "    lst = 0\n",
    "    for i in range(len(nums)):\n",
    "        if nums[i]!=val:\n",
    "            nums[i],nums[lst] = nums[lst],nums[i]\n",
    "            lst +=1\n",
    "    nums= nums[:lst]\n",
    "    return lst,nums\n",
    "removeElement([0,1,2,2,3,0,4,2],2)\n",
    "\n",
    "\n"
   ]
  }
 ],
 "metadata": {
  "kernelspec": {
   "display_name": "Python 3",
   "language": "python",
   "name": "python3"
  },
  "language_info": {
   "codemirror_mode": {
    "name": "ipython",
    "version": 3
   },
   "file_extension": ".py",
   "mimetype": "text/x-python",
   "name": "python",
   "nbconvert_exporter": "python",
   "pygments_lexer": "ipython3",
   "version": "3.10.11"
  }
 },
 "nbformat": 4,
 "nbformat_minor": 5
}
