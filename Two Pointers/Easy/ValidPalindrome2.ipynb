{
 "cells": [
  {
   "cell_type": "code",
   "execution_count": null,
   "id": "110aafad",
   "metadata": {},
   "outputs": [],
   "source": [
    "class Solution:\n",
    "    def validPalindrome(self, s: str) -> bool:\n",
    "        def is_valid(i,j):\n",
    "            while i<j:\n",
    "                if s[i]!=s[j]:\n",
    "                    return False\n",
    "                i+=1\n",
    "                j-=1\n",
    "            return True\n",
    "        left =0\n",
    "        right =len(s)-1\n",
    "        while left<right:\n",
    "            if s[left]!=s[right]:\n",
    "                return is_valid(left+1,right) or is_valid(left,right-1)\n",
    "            left+=1\n",
    "            right-=1\n",
    "        return True\n",
    "        "
   ]
  }
 ],
 "metadata": {
  "language_info": {
   "name": "python"
  }
 },
 "nbformat": 4,
 "nbformat_minor": 5
}
