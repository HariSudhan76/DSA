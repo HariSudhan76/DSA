{
 "cells": [
  {
   "cell_type": "code",
   "execution_count": 1,
   "id": "e42dafb9",
   "metadata": {},
   "outputs": [
    {
     "data": {
      "text/plain": [
       "True"
      ]
     },
     "execution_count": 1,
     "metadata": {},
     "output_type": "execute_result"
    }
   ],
   "source": [
    "def check(nums) -> bool:\n",
    "    count = 0\n",
    "    if nums[0]<nums[-1]:\n",
    "        count+=1\n",
    "    for i in range(len(nums)-1):\n",
    "        if nums[i]>nums[i+1]:\n",
    "            count+=1\n",
    "        if count>1:\n",
    "            return False\n",
    "    return True\n",
    "nums = [3,4,5,1,2]\n",
    "check(nums)"
   ]
  }
 ],
 "metadata": {
  "kernelspec": {
   "display_name": "Python 3",
   "language": "python",
   "name": "python3"
  },
  "language_info": {
   "codemirror_mode": {
    "name": "ipython",
    "version": 3
   },
   "file_extension": ".py",
   "mimetype": "text/x-python",
   "name": "python",
   "nbconvert_exporter": "python",
   "pygments_lexer": "ipython3",
   "version": "3.10.11"
  }
 },
 "nbformat": 4,
 "nbformat_minor": 5
}
